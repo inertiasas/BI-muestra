{
 "cells": [
  {
   "cell_type": "code",
   "execution_count": 1,
   "metadata": {},
   "outputs": [],
   "source": [
    "import pandas as pd"
   ]
  },
  {
   "cell_type": "code",
   "execution_count": 2,
   "metadata": {},
   "outputs": [],
   "source": [
    "pd.plotting.register_matplotlib_converters()"
   ]
  },
  {
   "cell_type": "code",
   "execution_count": 3,
   "metadata": {},
   "outputs": [],
   "source": [
    "dfA = pd.read_csv(\"table_A_conversions.csv\")"
   ]
  },
  {
   "cell_type": "code",
   "execution_count": 4,
   "metadata": {},
   "outputs": [
    {
     "data": {
      "text/plain": [
       "Conv_Date     object\n",
       "Revenue      float64\n",
       "User_ID       object\n",
       "Conv_ID       object\n",
       "dtype: object"
      ]
     },
     "execution_count": 4,
     "metadata": {},
     "output_type": "execute_result"
    }
   ],
   "source": [
    "dfA.dtypes"
   ]
  },
  {
   "cell_type": "code",
   "execution_count": 5,
   "metadata": {},
   "outputs": [],
   "source": [
    "dfA = dfA.rename(columns={'Revenue': 'transaction_value', 'Conv_Date': 'date', 'User_ID':'customer_id', 'Conv_ID':'transaction_id'})"
   ]
  },
  {
   "cell_type": "code",
   "execution_count": 6,
   "metadata": {},
   "outputs": [
    {
     "data": {
      "text/plain": [
       "date                  object\n",
       "transaction_value    float64\n",
       "customer_id           object\n",
       "transaction_id        object\n",
       "dtype: object"
      ]
     },
     "execution_count": 6,
     "metadata": {},
     "output_type": "execute_result"
    }
   ],
   "source": [
    "dfA.dtypes"
   ]
  },
  {
   "cell_type": "code",
   "execution_count": 7,
   "metadata": {},
   "outputs": [],
   "source": [
    "dfA[\"customer_id\"] = dfA[\"customer_id\"].fillna('0-unregistered')"
   ]
  },
  {
   "cell_type": "code",
   "execution_count": 8,
   "metadata": {},
   "outputs": [
    {
     "data": {
      "text/html": [
       "<div>\n",
       "<style scoped>\n",
       "    .dataframe tbody tr th:only-of-type {\n",
       "        vertical-align: middle;\n",
       "    }\n",
       "\n",
       "    .dataframe tbody tr th {\n",
       "        vertical-align: top;\n",
       "    }\n",
       "\n",
       "    .dataframe thead th {\n",
       "        text-align: right;\n",
       "    }\n",
       "</style>\n",
       "<table border=\"1\" class=\"dataframe\">\n",
       "  <thead>\n",
       "    <tr style=\"text-align: right;\">\n",
       "      <th></th>\n",
       "      <th>date</th>\n",
       "      <th>transaction_value</th>\n",
       "      <th>customer_id</th>\n",
       "      <th>transaction_id</th>\n",
       "    </tr>\n",
       "  </thead>\n",
       "  <tbody>\n",
       "    <tr>\n",
       "      <th>0</th>\n",
       "      <td>06-03-2017</td>\n",
       "      <td>47.00000</td>\n",
       "      <td>5094298f068196c5349d43847de5afc9125cf989</td>\n",
       "      <td>881152bb20f9b73daafb99d77714f38ac702629c</td>\n",
       "    </tr>\n",
       "    <tr>\n",
       "      <th>1</th>\n",
       "      <td>02-03-2017</td>\n",
       "      <td>98.00004</td>\n",
       "      <td>0-unregistered</td>\n",
       "      <td>faf5c1181ea84a32237dff45ca201d2c28f19d7b</td>\n",
       "    </tr>\n",
       "    <tr>\n",
       "      <th>2</th>\n",
       "      <td>02-03-2017</td>\n",
       "      <td>180.35300</td>\n",
       "      <td>0-unregistered</td>\n",
       "      <td>b0e58a88459ece1b585ca22c93e633dc56273b83</td>\n",
       "    </tr>\n",
       "    <tr>\n",
       "      <th>3</th>\n",
       "      <td>23-03-2017</td>\n",
       "      <td>201.94104</td>\n",
       "      <td>433fdf385e33176cf9b0d67ecf383aa928fa261c</td>\n",
       "      <td>f0e6b7de22332c7b18c024e550bb1d860130cdf1</td>\n",
       "    </tr>\n",
       "    <tr>\n",
       "      <th>4</th>\n",
       "      <td>03-03-2017</td>\n",
       "      <td>197.47008</td>\n",
       "      <td>0-unregistered</td>\n",
       "      <td>966568c7c859480c79b212520d20a51e735fd735</td>\n",
       "    </tr>\n",
       "    <tr>\n",
       "      <th>...</th>\n",
       "      <td>...</td>\n",
       "      <td>...</td>\n",
       "      <td>...</td>\n",
       "      <td>...</td>\n",
       "    </tr>\n",
       "    <tr>\n",
       "      <th>79638</th>\n",
       "      <td>26-03-2018</td>\n",
       "      <td>165.96800</td>\n",
       "      <td>6836d8cdd9c6c537c702b35ccd972fae58070004</td>\n",
       "      <td>523b494fdc6f79c76762c434cee7854af824df9a</td>\n",
       "    </tr>\n",
       "    <tr>\n",
       "      <th>79639</th>\n",
       "      <td>26-03-2018</td>\n",
       "      <td>165.86000</td>\n",
       "      <td>bbc08d8abad5e699823f2f0021762797941679be</td>\n",
       "      <td>79a098aab7641fdea9499a91441a1aadf5212f6d</td>\n",
       "    </tr>\n",
       "    <tr>\n",
       "      <th>79640</th>\n",
       "      <td>26-03-2018</td>\n",
       "      <td>142.80000</td>\n",
       "      <td>39b5fdd28cb956053d3e4f3f0b884fb95749da8a</td>\n",
       "      <td>162bce00fb8455775c5a7819973023d0a03af934</td>\n",
       "    </tr>\n",
       "    <tr>\n",
       "      <th>79641</th>\n",
       "      <td>26-03-2018</td>\n",
       "      <td>231.56800</td>\n",
       "      <td>3342d5b210274b01e947cc15531ad53fbe25435b</td>\n",
       "      <td>ce7be68946baaf23c23bafffc0b60d63b9392615</td>\n",
       "    </tr>\n",
       "    <tr>\n",
       "      <th>79642</th>\n",
       "      <td>26-03-2018</td>\n",
       "      <td>119.50400</td>\n",
       "      <td>b3f02d0768c0ba8334047d106eb759f3e80517ac</td>\n",
       "      <td>2d94a2d0fc7408bb2210d012ba96d2a9949e4e45</td>\n",
       "    </tr>\n",
       "  </tbody>\n",
       "</table>\n",
       "<p>79643 rows × 4 columns</p>\n",
       "</div>"
      ],
      "text/plain": [
       "             date  transaction_value  \\\n",
       "0      06-03-2017           47.00000   \n",
       "1      02-03-2017           98.00004   \n",
       "2      02-03-2017          180.35300   \n",
       "3      23-03-2017          201.94104   \n",
       "4      03-03-2017          197.47008   \n",
       "...           ...                ...   \n",
       "79638  26-03-2018          165.96800   \n",
       "79639  26-03-2018          165.86000   \n",
       "79640  26-03-2018          142.80000   \n",
       "79641  26-03-2018          231.56800   \n",
       "79642  26-03-2018          119.50400   \n",
       "\n",
       "                                    customer_id  \\\n",
       "0      5094298f068196c5349d43847de5afc9125cf989   \n",
       "1                                0-unregistered   \n",
       "2                                0-unregistered   \n",
       "3      433fdf385e33176cf9b0d67ecf383aa928fa261c   \n",
       "4                                0-unregistered   \n",
       "...                                         ...   \n",
       "79638  6836d8cdd9c6c537c702b35ccd972fae58070004   \n",
       "79639  bbc08d8abad5e699823f2f0021762797941679be   \n",
       "79640  39b5fdd28cb956053d3e4f3f0b884fb95749da8a   \n",
       "79641  3342d5b210274b01e947cc15531ad53fbe25435b   \n",
       "79642  b3f02d0768c0ba8334047d106eb759f3e80517ac   \n",
       "\n",
       "                                 transaction_id  \n",
       "0      881152bb20f9b73daafb99d77714f38ac702629c  \n",
       "1      faf5c1181ea84a32237dff45ca201d2c28f19d7b  \n",
       "2      b0e58a88459ece1b585ca22c93e633dc56273b83  \n",
       "3      f0e6b7de22332c7b18c024e550bb1d860130cdf1  \n",
       "4      966568c7c859480c79b212520d20a51e735fd735  \n",
       "...                                         ...  \n",
       "79638  523b494fdc6f79c76762c434cee7854af824df9a  \n",
       "79639  79a098aab7641fdea9499a91441a1aadf5212f6d  \n",
       "79640  162bce00fb8455775c5a7819973023d0a03af934  \n",
       "79641  ce7be68946baaf23c23bafffc0b60d63b9392615  \n",
       "79642  2d94a2d0fc7408bb2210d012ba96d2a9949e4e45  \n",
       "\n",
       "[79643 rows x 4 columns]"
      ]
     },
     "execution_count": 8,
     "metadata": {},
     "output_type": "execute_result"
    }
   ],
   "source": [
    "dfA"
   ]
  },
  {
   "cell_type": "code",
   "execution_count": 9,
   "metadata": {},
   "outputs": [],
   "source": [
    "dfA_byCustomer = pd.DataFrame( dfA.groupby('customer_id').agg(['count','sum', 'min', 'max', 'mean', 'std'],'transaction_value'))"
   ]
  },
  {
   "cell_type": "code",
   "execution_count": 10,
   "metadata": {},
   "outputs": [
    {
     "data": {
      "text/plain": [
       "MultiIndex([('transaction_value', 'count'),\n",
       "            ('transaction_value',   'sum'),\n",
       "            ('transaction_value',   'min'),\n",
       "            ('transaction_value',   'max'),\n",
       "            ('transaction_value',  'mean'),\n",
       "            ('transaction_value',   'std')],\n",
       "           )"
      ]
     },
     "execution_count": 10,
     "metadata": {},
     "output_type": "execute_result"
    }
   ],
   "source": [
    "dfA_byCustomer.columns"
   ]
  },
  {
   "cell_type": "code",
   "execution_count": 11,
   "metadata": {},
   "outputs": [
    {
     "data": {
      "text/html": [
       "<div>\n",
       "<style scoped>\n",
       "    .dataframe tbody tr th:only-of-type {\n",
       "        vertical-align: middle;\n",
       "    }\n",
       "\n",
       "    .dataframe tbody tr th {\n",
       "        vertical-align: top;\n",
       "    }\n",
       "\n",
       "    .dataframe thead tr th {\n",
       "        text-align: left;\n",
       "    }\n",
       "\n",
       "    .dataframe thead tr:last-of-type th {\n",
       "        text-align: right;\n",
       "    }\n",
       "</style>\n",
       "<table border=\"1\" class=\"dataframe\">\n",
       "  <thead>\n",
       "    <tr>\n",
       "      <th></th>\n",
       "      <th colspan=\"6\" halign=\"left\">transaction_value</th>\n",
       "    </tr>\n",
       "    <tr>\n",
       "      <th></th>\n",
       "      <th>count</th>\n",
       "      <th>sum</th>\n",
       "      <th>min</th>\n",
       "      <th>max</th>\n",
       "      <th>mean</th>\n",
       "      <th>std</th>\n",
       "    </tr>\n",
       "    <tr>\n",
       "      <th>customer_id</th>\n",
       "      <th></th>\n",
       "      <th></th>\n",
       "      <th></th>\n",
       "      <th></th>\n",
       "      <th></th>\n",
       "      <th></th>\n",
       "    </tr>\n",
       "  </thead>\n",
       "  <tbody>\n",
       "    <tr>\n",
       "      <th>0-unregistered</th>\n",
       "      <td>2296</td>\n",
       "      <td>387363.55024</td>\n",
       "      <td>35.908</td>\n",
       "      <td>1232.696</td>\n",
       "      <td>168.712348</td>\n",
       "      <td>92.725130</td>\n",
       "    </tr>\n",
       "    <tr>\n",
       "      <th>00003ce67d6b73b2d49f4036f60cb73385a9c96e</th>\n",
       "      <td>1</td>\n",
       "      <td>153.84000</td>\n",
       "      <td>153.840</td>\n",
       "      <td>153.840</td>\n",
       "      <td>153.840000</td>\n",
       "      <td>NaN</td>\n",
       "    </tr>\n",
       "    <tr>\n",
       "      <th>0003509d64606735e66a3d32f2a1a084f613ee4b</th>\n",
       "      <td>2</td>\n",
       "      <td>245.63200</td>\n",
       "      <td>93.888</td>\n",
       "      <td>151.744</td>\n",
       "      <td>122.816000</td>\n",
       "      <td>40.910370</td>\n",
       "    </tr>\n",
       "    <tr>\n",
       "      <th>00035f943a8a8e176fdd5a44059b38dcc0c73f5a</th>\n",
       "      <td>2</td>\n",
       "      <td>833.16400</td>\n",
       "      <td>339.732</td>\n",
       "      <td>493.432</td>\n",
       "      <td>416.582000</td>\n",
       "      <td>108.682312</td>\n",
       "    </tr>\n",
       "    <tr>\n",
       "      <th>0003f10010cd3dadcb7182ed7b0abf5166393e91</th>\n",
       "      <td>1</td>\n",
       "      <td>121.80800</td>\n",
       "      <td>121.808</td>\n",
       "      <td>121.808</td>\n",
       "      <td>121.808000</td>\n",
       "      <td>NaN</td>\n",
       "    </tr>\n",
       "    <tr>\n",
       "      <th>...</th>\n",
       "      <td>...</td>\n",
       "      <td>...</td>\n",
       "      <td>...</td>\n",
       "      <td>...</td>\n",
       "      <td>...</td>\n",
       "      <td>...</td>\n",
       "    </tr>\n",
       "    <tr>\n",
       "      <th>fffb0fc0e6cde8d4838713679c0a6d3c28087671</th>\n",
       "      <td>1</td>\n",
       "      <td>97.33600</td>\n",
       "      <td>97.336</td>\n",
       "      <td>97.336</td>\n",
       "      <td>97.336000</td>\n",
       "      <td>NaN</td>\n",
       "    </tr>\n",
       "    <tr>\n",
       "      <th>fffc3a37495e0f44dbfe4511ec0d46460aa571e5</th>\n",
       "      <td>1</td>\n",
       "      <td>148.14400</td>\n",
       "      <td>148.144</td>\n",
       "      <td>148.144</td>\n",
       "      <td>148.144000</td>\n",
       "      <td>NaN</td>\n",
       "    </tr>\n",
       "    <tr>\n",
       "      <th>fffc95150d63e98e62d98cdfabbf13245fdc2dd2</th>\n",
       "      <td>1</td>\n",
       "      <td>210.80000</td>\n",
       "      <td>210.800</td>\n",
       "      <td>210.800</td>\n",
       "      <td>210.800000</td>\n",
       "      <td>NaN</td>\n",
       "    </tr>\n",
       "    <tr>\n",
       "      <th>fffe1f896de2470b64ae4895249f0a516f38e0db</th>\n",
       "      <td>1</td>\n",
       "      <td>84.62800</td>\n",
       "      <td>84.628</td>\n",
       "      <td>84.628</td>\n",
       "      <td>84.628000</td>\n",
       "      <td>NaN</td>\n",
       "    </tr>\n",
       "    <tr>\n",
       "      <th>fffe9ce5489133e44db3fa2c77d10c9cfa1fdb13</th>\n",
       "      <td>1</td>\n",
       "      <td>89.30400</td>\n",
       "      <td>89.304</td>\n",
       "      <td>89.304</td>\n",
       "      <td>89.304000</td>\n",
       "      <td>NaN</td>\n",
       "    </tr>\n",
       "  </tbody>\n",
       "</table>\n",
       "<p>55353 rows × 6 columns</p>\n",
       "</div>"
      ],
      "text/plain": [
       "                                         transaction_value                \\\n",
       "                                                     count           sum   \n",
       "customer_id                                                                \n",
       "0-unregistered                                        2296  387363.55024   \n",
       "00003ce67d6b73b2d49f4036f60cb73385a9c96e                 1     153.84000   \n",
       "0003509d64606735e66a3d32f2a1a084f613ee4b                 2     245.63200   \n",
       "00035f943a8a8e176fdd5a44059b38dcc0c73f5a                 2     833.16400   \n",
       "0003f10010cd3dadcb7182ed7b0abf5166393e91                 1     121.80800   \n",
       "...                                                    ...           ...   \n",
       "fffb0fc0e6cde8d4838713679c0a6d3c28087671                 1      97.33600   \n",
       "fffc3a37495e0f44dbfe4511ec0d46460aa571e5                 1     148.14400   \n",
       "fffc95150d63e98e62d98cdfabbf13245fdc2dd2                 1     210.80000   \n",
       "fffe1f896de2470b64ae4895249f0a516f38e0db                 1      84.62800   \n",
       "fffe9ce5489133e44db3fa2c77d10c9cfa1fdb13                 1      89.30400   \n",
       "\n",
       "                                                                         \\\n",
       "                                              min       max        mean   \n",
       "customer_id                                                               \n",
       "0-unregistered                             35.908  1232.696  168.712348   \n",
       "00003ce67d6b73b2d49f4036f60cb73385a9c96e  153.840   153.840  153.840000   \n",
       "0003509d64606735e66a3d32f2a1a084f613ee4b   93.888   151.744  122.816000   \n",
       "00035f943a8a8e176fdd5a44059b38dcc0c73f5a  339.732   493.432  416.582000   \n",
       "0003f10010cd3dadcb7182ed7b0abf5166393e91  121.808   121.808  121.808000   \n",
       "...                                           ...       ...         ...   \n",
       "fffb0fc0e6cde8d4838713679c0a6d3c28087671   97.336    97.336   97.336000   \n",
       "fffc3a37495e0f44dbfe4511ec0d46460aa571e5  148.144   148.144  148.144000   \n",
       "fffc95150d63e98e62d98cdfabbf13245fdc2dd2  210.800   210.800  210.800000   \n",
       "fffe1f896de2470b64ae4895249f0a516f38e0db   84.628    84.628   84.628000   \n",
       "fffe9ce5489133e44db3fa2c77d10c9cfa1fdb13   89.304    89.304   89.304000   \n",
       "\n",
       "                                                      \n",
       "                                                 std  \n",
       "customer_id                                           \n",
       "0-unregistered                             92.725130  \n",
       "00003ce67d6b73b2d49f4036f60cb73385a9c96e         NaN  \n",
       "0003509d64606735e66a3d32f2a1a084f613ee4b   40.910370  \n",
       "00035f943a8a8e176fdd5a44059b38dcc0c73f5a  108.682312  \n",
       "0003f10010cd3dadcb7182ed7b0abf5166393e91         NaN  \n",
       "...                                              ...  \n",
       "fffb0fc0e6cde8d4838713679c0a6d3c28087671         NaN  \n",
       "fffc3a37495e0f44dbfe4511ec0d46460aa571e5         NaN  \n",
       "fffc95150d63e98e62d98cdfabbf13245fdc2dd2         NaN  \n",
       "fffe1f896de2470b64ae4895249f0a516f38e0db         NaN  \n",
       "fffe9ce5489133e44db3fa2c77d10c9cfa1fdb13         NaN  \n",
       "\n",
       "[55353 rows x 6 columns]"
      ]
     },
     "execution_count": 11,
     "metadata": {},
     "output_type": "execute_result"
    }
   ],
   "source": [
    "dfA_byCustomer"
   ]
  },
  {
   "cell_type": "code",
   "execution_count": 81,
   "metadata": {},
   "outputs": [],
   "source": [
    "#dfA_byCustomer = dfA_byCustomer.rename(columns={'transaction_id': 'transactions'})"
   ]
  },
  {
   "cell_type": "code",
   "execution_count": 12,
   "metadata": {},
   "outputs": [],
   "source": [
    "#dfA_byCustomer.dtypes"
   ]
  },
  {
   "cell_type": "code",
   "execution_count": 13,
   "metadata": {},
   "outputs": [],
   "source": [
    "dfA_byCustomer['account'] = 'Registered'"
   ]
  },
  {
   "cell_type": "code",
   "execution_count": 14,
   "metadata": {},
   "outputs": [],
   "source": [
    "dfA_byCustomer.loc[dfA_byCustomer.index == '0-unregistered','account'] = 'Unregistered'"
   ]
  },
  {
   "cell_type": "code",
   "execution_count": 15,
   "metadata": {},
   "outputs": [],
   "source": [
    "dfA_byCustomer['return'] = 'One-off Customer'"
   ]
  },
  {
   "cell_type": "code",
   "execution_count": 16,
   "metadata": {},
   "outputs": [],
   "source": [
    "dfA_byCustomer.loc[dfA_byCustomer[('transaction_value','count')] > 1,'return'] = 'Return Customer'"
   ]
  },
  {
   "cell_type": "code",
   "execution_count": 17,
   "metadata": {},
   "outputs": [
    {
     "data": {
      "text/html": [
       "<div>\n",
       "<style scoped>\n",
       "    .dataframe tbody tr th:only-of-type {\n",
       "        vertical-align: middle;\n",
       "    }\n",
       "\n",
       "    .dataframe tbody tr th {\n",
       "        vertical-align: top;\n",
       "    }\n",
       "\n",
       "    .dataframe thead tr th {\n",
       "        text-align: left;\n",
       "    }\n",
       "\n",
       "    .dataframe thead tr:last-of-type th {\n",
       "        text-align: right;\n",
       "    }\n",
       "</style>\n",
       "<table border=\"1\" class=\"dataframe\">\n",
       "  <thead>\n",
       "    <tr>\n",
       "      <th></th>\n",
       "      <th colspan=\"6\" halign=\"left\">transaction_value</th>\n",
       "      <th>account</th>\n",
       "      <th>return</th>\n",
       "    </tr>\n",
       "    <tr>\n",
       "      <th></th>\n",
       "      <th>count</th>\n",
       "      <th>sum</th>\n",
       "      <th>min</th>\n",
       "      <th>max</th>\n",
       "      <th>mean</th>\n",
       "      <th>std</th>\n",
       "      <th></th>\n",
       "      <th></th>\n",
       "    </tr>\n",
       "    <tr>\n",
       "      <th>customer_id</th>\n",
       "      <th></th>\n",
       "      <th></th>\n",
       "      <th></th>\n",
       "      <th></th>\n",
       "      <th></th>\n",
       "      <th></th>\n",
       "      <th></th>\n",
       "      <th></th>\n",
       "    </tr>\n",
       "  </thead>\n",
       "  <tbody>\n",
       "    <tr>\n",
       "      <th>0-unregistered</th>\n",
       "      <td>2296</td>\n",
       "      <td>387363.55024</td>\n",
       "      <td>35.908</td>\n",
       "      <td>1232.696</td>\n",
       "      <td>168.712348</td>\n",
       "      <td>92.725130</td>\n",
       "      <td>Unregistered</td>\n",
       "      <td>Return Customer</td>\n",
       "    </tr>\n",
       "    <tr>\n",
       "      <th>00003ce67d6b73b2d49f4036f60cb73385a9c96e</th>\n",
       "      <td>1</td>\n",
       "      <td>153.84000</td>\n",
       "      <td>153.840</td>\n",
       "      <td>153.840</td>\n",
       "      <td>153.840000</td>\n",
       "      <td>NaN</td>\n",
       "      <td>Registered</td>\n",
       "      <td>One-off Customer</td>\n",
       "    </tr>\n",
       "    <tr>\n",
       "      <th>0003509d64606735e66a3d32f2a1a084f613ee4b</th>\n",
       "      <td>2</td>\n",
       "      <td>245.63200</td>\n",
       "      <td>93.888</td>\n",
       "      <td>151.744</td>\n",
       "      <td>122.816000</td>\n",
       "      <td>40.910370</td>\n",
       "      <td>Registered</td>\n",
       "      <td>Return Customer</td>\n",
       "    </tr>\n",
       "    <tr>\n",
       "      <th>00035f943a8a8e176fdd5a44059b38dcc0c73f5a</th>\n",
       "      <td>2</td>\n",
       "      <td>833.16400</td>\n",
       "      <td>339.732</td>\n",
       "      <td>493.432</td>\n",
       "      <td>416.582000</td>\n",
       "      <td>108.682312</td>\n",
       "      <td>Registered</td>\n",
       "      <td>Return Customer</td>\n",
       "    </tr>\n",
       "    <tr>\n",
       "      <th>0003f10010cd3dadcb7182ed7b0abf5166393e91</th>\n",
       "      <td>1</td>\n",
       "      <td>121.80800</td>\n",
       "      <td>121.808</td>\n",
       "      <td>121.808</td>\n",
       "      <td>121.808000</td>\n",
       "      <td>NaN</td>\n",
       "      <td>Registered</td>\n",
       "      <td>One-off Customer</td>\n",
       "    </tr>\n",
       "    <tr>\n",
       "      <th>...</th>\n",
       "      <td>...</td>\n",
       "      <td>...</td>\n",
       "      <td>...</td>\n",
       "      <td>...</td>\n",
       "      <td>...</td>\n",
       "      <td>...</td>\n",
       "      <td>...</td>\n",
       "      <td>...</td>\n",
       "    </tr>\n",
       "    <tr>\n",
       "      <th>fffb0fc0e6cde8d4838713679c0a6d3c28087671</th>\n",
       "      <td>1</td>\n",
       "      <td>97.33600</td>\n",
       "      <td>97.336</td>\n",
       "      <td>97.336</td>\n",
       "      <td>97.336000</td>\n",
       "      <td>NaN</td>\n",
       "      <td>Registered</td>\n",
       "      <td>One-off Customer</td>\n",
       "    </tr>\n",
       "    <tr>\n",
       "      <th>fffc3a37495e0f44dbfe4511ec0d46460aa571e5</th>\n",
       "      <td>1</td>\n",
       "      <td>148.14400</td>\n",
       "      <td>148.144</td>\n",
       "      <td>148.144</td>\n",
       "      <td>148.144000</td>\n",
       "      <td>NaN</td>\n",
       "      <td>Registered</td>\n",
       "      <td>One-off Customer</td>\n",
       "    </tr>\n",
       "    <tr>\n",
       "      <th>fffc95150d63e98e62d98cdfabbf13245fdc2dd2</th>\n",
       "      <td>1</td>\n",
       "      <td>210.80000</td>\n",
       "      <td>210.800</td>\n",
       "      <td>210.800</td>\n",
       "      <td>210.800000</td>\n",
       "      <td>NaN</td>\n",
       "      <td>Registered</td>\n",
       "      <td>One-off Customer</td>\n",
       "    </tr>\n",
       "    <tr>\n",
       "      <th>fffe1f896de2470b64ae4895249f0a516f38e0db</th>\n",
       "      <td>1</td>\n",
       "      <td>84.62800</td>\n",
       "      <td>84.628</td>\n",
       "      <td>84.628</td>\n",
       "      <td>84.628000</td>\n",
       "      <td>NaN</td>\n",
       "      <td>Registered</td>\n",
       "      <td>One-off Customer</td>\n",
       "    </tr>\n",
       "    <tr>\n",
       "      <th>fffe9ce5489133e44db3fa2c77d10c9cfa1fdb13</th>\n",
       "      <td>1</td>\n",
       "      <td>89.30400</td>\n",
       "      <td>89.304</td>\n",
       "      <td>89.304</td>\n",
       "      <td>89.304000</td>\n",
       "      <td>NaN</td>\n",
       "      <td>Registered</td>\n",
       "      <td>One-off Customer</td>\n",
       "    </tr>\n",
       "  </tbody>\n",
       "</table>\n",
       "<p>55353 rows × 8 columns</p>\n",
       "</div>"
      ],
      "text/plain": [
       "                                         transaction_value                \\\n",
       "                                                     count           sum   \n",
       "customer_id                                                                \n",
       "0-unregistered                                        2296  387363.55024   \n",
       "00003ce67d6b73b2d49f4036f60cb73385a9c96e                 1     153.84000   \n",
       "0003509d64606735e66a3d32f2a1a084f613ee4b                 2     245.63200   \n",
       "00035f943a8a8e176fdd5a44059b38dcc0c73f5a                 2     833.16400   \n",
       "0003f10010cd3dadcb7182ed7b0abf5166393e91                 1     121.80800   \n",
       "...                                                    ...           ...   \n",
       "fffb0fc0e6cde8d4838713679c0a6d3c28087671                 1      97.33600   \n",
       "fffc3a37495e0f44dbfe4511ec0d46460aa571e5                 1     148.14400   \n",
       "fffc95150d63e98e62d98cdfabbf13245fdc2dd2                 1     210.80000   \n",
       "fffe1f896de2470b64ae4895249f0a516f38e0db                 1      84.62800   \n",
       "fffe9ce5489133e44db3fa2c77d10c9cfa1fdb13                 1      89.30400   \n",
       "\n",
       "                                                                         \\\n",
       "                                              min       max        mean   \n",
       "customer_id                                                               \n",
       "0-unregistered                             35.908  1232.696  168.712348   \n",
       "00003ce67d6b73b2d49f4036f60cb73385a9c96e  153.840   153.840  153.840000   \n",
       "0003509d64606735e66a3d32f2a1a084f613ee4b   93.888   151.744  122.816000   \n",
       "00035f943a8a8e176fdd5a44059b38dcc0c73f5a  339.732   493.432  416.582000   \n",
       "0003f10010cd3dadcb7182ed7b0abf5166393e91  121.808   121.808  121.808000   \n",
       "...                                           ...       ...         ...   \n",
       "fffb0fc0e6cde8d4838713679c0a6d3c28087671   97.336    97.336   97.336000   \n",
       "fffc3a37495e0f44dbfe4511ec0d46460aa571e5  148.144   148.144  148.144000   \n",
       "fffc95150d63e98e62d98cdfabbf13245fdc2dd2  210.800   210.800  210.800000   \n",
       "fffe1f896de2470b64ae4895249f0a516f38e0db   84.628    84.628   84.628000   \n",
       "fffe9ce5489133e44db3fa2c77d10c9cfa1fdb13   89.304    89.304   89.304000   \n",
       "\n",
       "                                                           account  \\\n",
       "                                                 std                 \n",
       "customer_id                                                          \n",
       "0-unregistered                             92.725130  Unregistered   \n",
       "00003ce67d6b73b2d49f4036f60cb73385a9c96e         NaN    Registered   \n",
       "0003509d64606735e66a3d32f2a1a084f613ee4b   40.910370    Registered   \n",
       "00035f943a8a8e176fdd5a44059b38dcc0c73f5a  108.682312    Registered   \n",
       "0003f10010cd3dadcb7182ed7b0abf5166393e91         NaN    Registered   \n",
       "...                                              ...           ...   \n",
       "fffb0fc0e6cde8d4838713679c0a6d3c28087671         NaN    Registered   \n",
       "fffc3a37495e0f44dbfe4511ec0d46460aa571e5         NaN    Registered   \n",
       "fffc95150d63e98e62d98cdfabbf13245fdc2dd2         NaN    Registered   \n",
       "fffe1f896de2470b64ae4895249f0a516f38e0db         NaN    Registered   \n",
       "fffe9ce5489133e44db3fa2c77d10c9cfa1fdb13         NaN    Registered   \n",
       "\n",
       "                                                    return  \n",
       "                                                            \n",
       "customer_id                                                 \n",
       "0-unregistered                             Return Customer  \n",
       "00003ce67d6b73b2d49f4036f60cb73385a9c96e  One-off Customer  \n",
       "0003509d64606735e66a3d32f2a1a084f613ee4b   Return Customer  \n",
       "00035f943a8a8e176fdd5a44059b38dcc0c73f5a   Return Customer  \n",
       "0003f10010cd3dadcb7182ed7b0abf5166393e91  One-off Customer  \n",
       "...                                                    ...  \n",
       "fffb0fc0e6cde8d4838713679c0a6d3c28087671  One-off Customer  \n",
       "fffc3a37495e0f44dbfe4511ec0d46460aa571e5  One-off Customer  \n",
       "fffc95150d63e98e62d98cdfabbf13245fdc2dd2  One-off Customer  \n",
       "fffe1f896de2470b64ae4895249f0a516f38e0db  One-off Customer  \n",
       "fffe9ce5489133e44db3fa2c77d10c9cfa1fdb13  One-off Customer  \n",
       "\n",
       "[55353 rows x 8 columns]"
      ]
     },
     "execution_count": 17,
     "metadata": {},
     "output_type": "execute_result"
    }
   ],
   "source": [
    "dfA_byCustomer"
   ]
  },
  {
   "cell_type": "code",
   "execution_count": 36,
   "metadata": {},
   "outputs": [],
   "source": [
    "return_custom = pd.DataFrame(dfA_byCustomer[dfA_byCustomer.account == 'Registered'].groupby('return')['account'].count())"
   ]
  },
  {
   "cell_type": "code",
   "execution_count": 37,
   "metadata": {},
   "outputs": [
    {
     "data": {
      "text/html": [
       "<div>\n",
       "<style scoped>\n",
       "    .dataframe tbody tr th:only-of-type {\n",
       "        vertical-align: middle;\n",
       "    }\n",
       "\n",
       "    .dataframe tbody tr th {\n",
       "        vertical-align: top;\n",
       "    }\n",
       "\n",
       "    .dataframe thead th {\n",
       "        text-align: right;\n",
       "    }\n",
       "</style>\n",
       "<table border=\"1\" class=\"dataframe\">\n",
       "  <thead>\n",
       "    <tr style=\"text-align: right;\">\n",
       "      <th></th>\n",
       "      <th>account</th>\n",
       "      <th>total</th>\n",
       "    </tr>\n",
       "    <tr>\n",
       "      <th>return</th>\n",
       "      <th></th>\n",
       "      <th></th>\n",
       "    </tr>\n",
       "  </thead>\n",
       "  <tbody>\n",
       "    <tr>\n",
       "      <th>One-off Customer</th>\n",
       "      <td>46432</td>\n",
       "      <td>46432</td>\n",
       "    </tr>\n",
       "    <tr>\n",
       "      <th>Return Customer</th>\n",
       "      <td>8920</td>\n",
       "      <td>8920</td>\n",
       "    </tr>\n",
       "  </tbody>\n",
       "</table>\n",
       "</div>"
      ],
      "text/plain": [
       "                  account  total\n",
       "return                          \n",
       "One-off Customer    46432  46432\n",
       "Return Customer      8920   8920"
      ]
     },
     "execution_count": 37,
     "metadata": {},
     "output_type": "execute_result"
    }
   ],
   "source": [
    "return_custom.assign(total = return_custom.sum(1))"
   ]
  },
  {
   "cell_type": "code",
   "execution_count": 22,
   "metadata": {},
   "outputs": [],
   "source": [
    "customers = dfA_byCustomer[dfA_byCustomer.account == 'Registered']['return'].count()"
   ]
  },
  {
   "cell_type": "code",
   "execution_count": 30,
   "metadata": {},
   "outputs": [],
   "source": [
    "return_customers = dfA_byCustomer[(dfA_byCustomer.account == 'Registered') & (dfA_byCustomer['return'] == 'Return Customer')]['return'].count()"
   ]
  },
  {
   "cell_type": "code",
   "execution_count": 31,
   "metadata": {},
   "outputs": [],
   "source": [
    "fraction_return_customers = return_customers/customers"
   ]
  },
  {
   "cell_type": "code",
   "execution_count": null,
   "metadata": {},
   "outputs": [],
   "source": []
  },
  {
   "cell_type": "markdown",
   "metadata": {},
   "source": [
    "## Visión General"
   ]
  },
  {
   "cell_type": "code",
   "execution_count": null,
   "metadata": {},
   "outputs": [],
   "source": [
    "cus = pd.DataFrame( dfA.groupby('date')['revenue_transaction'].sum())"
   ]
  },
  {
   "cell_type": "code",
   "execution_count": 93,
   "metadata": {},
   "outputs": [],
   "source": [
    "dfA_byDate.index = pd.to_datetime(dfA_byDate.index, dayfirst=True)"
   ]
  },
  {
   "cell_type": "code",
   "execution_count": 95,
   "metadata": {},
   "outputs": [
    {
     "data": {
      "text/plain": [
       "<matplotlib.axes._subplots.AxesSubplot at 0x7f3f542dd150>"
      ]
     },
     "execution_count": 95,
     "metadata": {},
     "output_type": "execute_result"
    },
    {
     "data": {
      "image/png": "[encoded data removed]",
      "text/plain": [
       "<Figure size 432x288 with 1 Axes>"
      ]
     },
     "metadata": {
      "needs_background": "light"
     },
     "output_type": "display_data"
    }
   ],
   "source": [
    "dfA_byDate.plot()"
   ]
  },
  {
   "cell_type": "code",
   "execution_count": 101,
   "metadata": {},
   "outputs": [
    {
     "data": {
      "text/plain": [
       "<matplotlib.axes._subplots.AxesSubplot at 0x7f3f56312b10>"
      ]
     },
     "execution_count": 101,
     "metadata": {},
     "output_type": "execute_result"
    },
    {
     "data": {
      "image/png": "[encoded data removed]",
      "text/plain": [
       "<Figure size 432x288 with 1 Axes>"
      ]
     },
     "metadata": {
      "needs_background": "light"
     },
     "output_type": "display_data"
    }
   ],
   "source": [
    "dfA_byDate.resample('M').sum().plot(kind='bar')"
   ]
  },
  {
   "cell_type": "markdown",
   "metadata": {},
   "source": [
    "# Channels"
   ]
  },
  {
   "cell_type": "code",
   "execution_count": 19,
   "metadata": {},
   "outputs": [],
   "source": [
    "dfB = pd.read_csv(\"table_B_attribution.csv\")"
   ]
  },
  {
   "cell_type": "code",
   "execution_count": 20,
   "metadata": {},
   "outputs": [],
   "source": [
    "df = pd.merge(dfA, dfB,on=\"Conv_ID\",how=\"outer\")"
   ]
  },
  {
   "cell_type": "code",
   "execution_count": 21,
   "metadata": {},
   "outputs": [],
   "source": [
    "df[\"Revenue by Channel\"]=df[\"Revenue\"]*df[\"IHC_Conv\"]"
   ]
  },
  {
   "cell_type": "code",
   "execution_count": 22,
   "metadata": {},
   "outputs": [
    {
     "data": {
      "text/plain": [
       "Conv_Date              object\n",
       "Revenue               float64\n",
       "User_ID                object\n",
       "Conv_ID                object\n",
       "Channel                object\n",
       "IHC_Conv              float64\n",
       "Revenue by Channel    float64\n",
       "dtype: object"
      ]
     },
     "execution_count": 22,
     "metadata": {},
     "output_type": "execute_result"
    }
   ],
   "source": [
    "df.dtypes"
   ]
  },
  {
   "cell_type": "code",
   "execution_count": 23,
   "metadata": {},
   "outputs": [
    {
     "data": {
      "text/html": [
       "<div>\n",
       "<style scoped>\n",
       "    .dataframe tbody tr th:only-of-type {\n",
       "        vertical-align: middle;\n",
       "    }\n",
       "\n",
       "    .dataframe tbody tr th {\n",
       "        vertical-align: top;\n",
       "    }\n",
       "\n",
       "    .dataframe thead th {\n",
       "        text-align: right;\n",
       "    }\n",
       "</style>\n",
       "<table border=\"1\" class=\"dataframe\">\n",
       "  <thead>\n",
       "    <tr style=\"text-align: right;\">\n",
       "      <th></th>\n",
       "      <th>Conv_Date</th>\n",
       "      <th>Revenue</th>\n",
       "      <th>User_ID</th>\n",
       "      <th>Conv_ID</th>\n",
       "      <th>Channel</th>\n",
       "      <th>IHC_Conv</th>\n",
       "      <th>Revenue by Channel</th>\n",
       "    </tr>\n",
       "  </thead>\n",
       "  <tbody>\n",
       "    <tr>\n",
       "      <th>0</th>\n",
       "      <td>06-03-2017</td>\n",
       "      <td>47.00000</td>\n",
       "      <td>5094298f068196c5349d43847de5afc9125cf989</td>\n",
       "      <td>881152bb20f9b73daafb99d77714f38ac702629c</td>\n",
       "      <td>H</td>\n",
       "      <td>1.000000</td>\n",
       "      <td>47.000000</td>\n",
       "    </tr>\n",
       "    <tr>\n",
       "      <th>1</th>\n",
       "      <td>02-03-2017</td>\n",
       "      <td>98.00004</td>\n",
       "      <td>NaN</td>\n",
       "      <td>faf5c1181ea84a32237dff45ca201d2c28f19d7b</td>\n",
       "      <td>I</td>\n",
       "      <td>0.300250</td>\n",
       "      <td>29.424483</td>\n",
       "    </tr>\n",
       "    <tr>\n",
       "      <th>2</th>\n",
       "      <td>02-03-2017</td>\n",
       "      <td>98.00004</td>\n",
       "      <td>NaN</td>\n",
       "      <td>faf5c1181ea84a32237dff45ca201d2c28f19d7b</td>\n",
       "      <td>A</td>\n",
       "      <td>0.322839</td>\n",
       "      <td>31.638255</td>\n",
       "    </tr>\n",
       "    <tr>\n",
       "      <th>3</th>\n",
       "      <td>02-03-2017</td>\n",
       "      <td>98.00004</td>\n",
       "      <td>NaN</td>\n",
       "      <td>faf5c1181ea84a32237dff45ca201d2c28f19d7b</td>\n",
       "      <td>E</td>\n",
       "      <td>0.376911</td>\n",
       "      <td>36.937313</td>\n",
       "    </tr>\n",
       "    <tr>\n",
       "      <th>4</th>\n",
       "      <td>02-03-2017</td>\n",
       "      <td>180.35300</td>\n",
       "      <td>NaN</td>\n",
       "      <td>b0e58a88459ece1b585ca22c93e633dc56273b83</td>\n",
       "      <td>H</td>\n",
       "      <td>1.000000</td>\n",
       "      <td>180.353000</td>\n",
       "    </tr>\n",
       "  </tbody>\n",
       "</table>\n",
       "</div>"
      ],
      "text/plain": [
       "    Conv_Date    Revenue                                   User_ID  \\\n",
       "0  06-03-2017   47.00000  5094298f068196c5349d43847de5afc9125cf989   \n",
       "1  02-03-2017   98.00004                                       NaN   \n",
       "2  02-03-2017   98.00004                                       NaN   \n",
       "3  02-03-2017   98.00004                                       NaN   \n",
       "4  02-03-2017  180.35300                                       NaN   \n",
       "\n",
       "                                    Conv_ID Channel  IHC_Conv  \\\n",
       "0  881152bb20f9b73daafb99d77714f38ac702629c       H  1.000000   \n",
       "1  faf5c1181ea84a32237dff45ca201d2c28f19d7b       I  0.300250   \n",
       "2  faf5c1181ea84a32237dff45ca201d2c28f19d7b       A  0.322839   \n",
       "3  faf5c1181ea84a32237dff45ca201d2c28f19d7b       E  0.376911   \n",
       "4  b0e58a88459ece1b585ca22c93e633dc56273b83       H  1.000000   \n",
       "\n",
       "   Revenue by Channel  \n",
       "0           47.000000  \n",
       "1           29.424483  \n",
       "2           31.638255  \n",
       "3           36.937313  \n",
       "4          180.353000  "
      ]
     },
     "execution_count": 23,
     "metadata": {},
     "output_type": "execute_result"
    }
   ],
   "source": [
    "df.head()"
   ]
  },
  {
   "cell_type": "code",
   "execution_count": 48,
   "metadata": {},
   "outputs": [
    {
     "data": {
      "text/plain": [
       "Conv_Date                     object\n",
       "Revenue                      float64\n",
       "User_ID                       object\n",
       "Conv_ID                       object\n",
       "Channel                       object\n",
       "IHC_Conv                     float64\n",
       "Revenue by Channel           float64\n",
       "Date                  datetime64[ns]\n",
       "Date Month                 period[M]\n",
       "dtype: object"
      ]
     },
     "execution_count": 48,
     "metadata": {},
     "output_type": "execute_result"
    }
   ],
   "source": [
    "df['Date'] = pd.to_datetime(df['Conv_Date'], dayfirst=True)\n",
    "df.dtypes"
   ]
  },
  {
   "cell_type": "code",
   "execution_count": null,
   "metadata": {},
   "outputs": [],
   "source": [
    "data = pd.Series([0, 1, 2, 3], index=pd.DatetimeIndex(df['Date']))"
   ]
  },
  {
   "cell_type": "code",
   "execution_count": null,
   "metadata": {},
   "outputs": [],
   "source": [
    "df['Date Month'] = pd.to_datetime(df['Conv_Date'], format=\"%d-%m-%Y\", unit=\"D\")"
   ]
  },
  {
   "cell_type": "code",
   "execution_count": 25,
   "metadata": {},
   "outputs": [
    {
     "data": {
      "text/plain": [
       "Conv_Date                     object\n",
       "Revenue                      float64\n",
       "User_ID                       object\n",
       "Conv_ID                       object\n",
       "Channel                       object\n",
       "IHC_Conv                     float64\n",
       "Revenue by Channel           float64\n",
       "Date                  datetime64[ns]\n",
       "dtype: object"
      ]
     },
     "execution_count": 25,
     "metadata": {},
     "output_type": "execute_result"
    }
   ],
   "source": [
    "df.dtypes"
   ]
  },
  {
   "cell_type": "code",
   "execution_count": 26,
   "metadata": {},
   "outputs": [],
   "source": [
    "df['Date Month'] = df.Date.dt.to_period(\"M\")"
   ]
  },
  {
   "cell_type": "code",
   "execution_count": 27,
   "metadata": {},
   "outputs": [],
   "source": [
    "df_rev = pd.DataFrame( df.groupby('Date')['Revenue by Channel'].sum()).reset_index()"
   ]
  },
  {
   "cell_type": "code",
   "execution_count": 35,
   "metadata": {},
   "outputs": [
    {
     "data": {
      "text/plain": [
       "Date                  datetime64[ns]\n",
       "Revenue by Channel           float64\n",
       "dtype: object"
      ]
     },
     "execution_count": 35,
     "metadata": {},
     "output_type": "execute_result"
    }
   ],
   "source": [
    "df_rev.dtypes"
   ]
  },
  {
   "cell_type": "code",
   "execution_count": 39,
   "metadata": {},
   "outputs": [
    {
     "data": {
      "text/plain": [
       "'Thursday'"
      ]
     },
     "execution_count": 39,
     "metadata": {},
     "output_type": "execute_result"
    }
   ],
   "source": [
    "df_rev['Date'][1].strftime('%A')"
   ]
  },
  {
   "cell_type": "code",
   "execution_count": 28,
   "metadata": {},
   "outputs": [
    {
     "data": {
      "text/plain": [
       "[<matplotlib.lines.Line2D at 0x7f0f401a7950>]"
      ]
     },
     "execution_count": 28,
     "metadata": {},
     "output_type": "execute_result"
    },
    {
     "data": {
      "image/png": "[encoded data removed]",
      "text/plain": [
       "<Figure size 432x288 with 1 Axes>"
      ]
     },
     "metadata": {
      "needs_background": "light"
     },
     "output_type": "display_data"
    }
   ],
   "source": [
    "import matplotlib.pyplot as plt\n",
    "plt.plot(df_rev['Date'], df_rev['Revenue by Channel'])"
   ]
  },
  {
   "cell_type": "code",
   "execution_count": 29,
   "metadata": {},
   "outputs": [
    {
     "data": {
      "text/html": [
       "<div>\n",
       "<style scoped>\n",
       "    .dataframe tbody tr th:only-of-type {\n",
       "        vertical-align: middle;\n",
       "    }\n",
       "\n",
       "    .dataframe tbody tr th {\n",
       "        vertical-align: top;\n",
       "    }\n",
       "\n",
       "    .dataframe thead th {\n",
       "        text-align: right;\n",
       "    }\n",
       "</style>\n",
       "<table border=\"1\" class=\"dataframe\">\n",
       "  <thead>\n",
       "    <tr style=\"text-align: right;\">\n",
       "      <th></th>\n",
       "      <th>Date Month</th>\n",
       "      <th>Revenue by Channel</th>\n",
       "    </tr>\n",
       "  </thead>\n",
       "  <tbody>\n",
       "    <tr>\n",
       "      <th>0</th>\n",
       "      <td>2017-03</td>\n",
       "      <td>9.570304e+05</td>\n",
       "    </tr>\n",
       "    <tr>\n",
       "      <th>1</th>\n",
       "      <td>2017-04</td>\n",
       "      <td>2.051688e+06</td>\n",
       "    </tr>\n",
       "    <tr>\n",
       "      <th>2</th>\n",
       "      <td>2017-05</td>\n",
       "      <td>7.666301e+05</td>\n",
       "    </tr>\n",
       "    <tr>\n",
       "      <th>3</th>\n",
       "      <td>2017-06</td>\n",
       "      <td>9.630976e+05</td>\n",
       "    </tr>\n",
       "    <tr>\n",
       "      <th>4</th>\n",
       "      <td>2017-07</td>\n",
       "      <td>1.025572e+06</td>\n",
       "    </tr>\n",
       "    <tr>\n",
       "      <th>5</th>\n",
       "      <td>2017-08</td>\n",
       "      <td>7.739691e+05</td>\n",
       "    </tr>\n",
       "    <tr>\n",
       "      <th>6</th>\n",
       "      <td>2017-09</td>\n",
       "      <td>1.230224e+06</td>\n",
       "    </tr>\n",
       "    <tr>\n",
       "      <th>7</th>\n",
       "      <td>2017-10</td>\n",
       "      <td>1.270828e+06</td>\n",
       "    </tr>\n",
       "    <tr>\n",
       "      <th>8</th>\n",
       "      <td>2017-11</td>\n",
       "      <td>1.417025e+06</td>\n",
       "    </tr>\n",
       "    <tr>\n",
       "      <th>9</th>\n",
       "      <td>2017-12</td>\n",
       "      <td>8.763027e+05</td>\n",
       "    </tr>\n",
       "    <tr>\n",
       "      <th>10</th>\n",
       "      <td>2018-01</td>\n",
       "      <td>1.045831e+06</td>\n",
       "    </tr>\n",
       "    <tr>\n",
       "      <th>11</th>\n",
       "      <td>2018-02</td>\n",
       "      <td>1.074545e+06</td>\n",
       "    </tr>\n",
       "    <tr>\n",
       "      <th>12</th>\n",
       "      <td>2018-03</td>\n",
       "      <td>1.013102e+06</td>\n",
       "    </tr>\n",
       "  </tbody>\n",
       "</table>\n",
       "</div>"
      ],
      "text/plain": [
       "   Date Month  Revenue by Channel\n",
       "0     2017-03        9.570304e+05\n",
       "1     2017-04        2.051688e+06\n",
       "2     2017-05        7.666301e+05\n",
       "3     2017-06        9.630976e+05\n",
       "4     2017-07        1.025572e+06\n",
       "5     2017-08        7.739691e+05\n",
       "6     2017-09        1.230224e+06\n",
       "7     2017-10        1.270828e+06\n",
       "8     2017-11        1.417025e+06\n",
       "9     2017-12        8.763027e+05\n",
       "10    2018-01        1.045831e+06\n",
       "11    2018-02        1.074545e+06\n",
       "12    2018-03        1.013102e+06"
      ]
     },
     "execution_count": 29,
     "metadata": {},
     "output_type": "execute_result"
    }
   ],
   "source": [
    "df_rev_month = pd.DataFrame( df.groupby('Date Month')['Revenue by Channel'].sum()).reset_index()\n",
    "df_rev_month"
   ]
  },
  {
   "cell_type": "code",
   "execution_count": 30,
   "metadata": {},
   "outputs": [
    {
     "data": {
      "text/plain": [
       "Date Month            period[M]\n",
       "Revenue by Channel      float64\n",
       "dtype: object"
      ]
     },
     "execution_count": 30,
     "metadata": {},
     "output_type": "execute_result"
    }
   ],
   "source": [
    "df_rev_month.dtypes"
   ]
  },
  {
   "cell_type": "code",
   "execution_count": 32,
   "metadata": {},
   "outputs": [
    {
     "data": {
      "text/plain": [
       "[<matplotlib.lines.Line2D at 0x7f0f3fe2b7d0>]"
      ]
     },
     "execution_count": 32,
     "metadata": {},
     "output_type": "execute_result"
    },
    {
     "data": {
      "image/png": "[encoded data removed]",
      "text/plain": [
       "<Figure size 432x288 with 1 Axes>"
      ]
     },
     "metadata": {
      "needs_background": "light"
     },
     "output_type": "display_data"
    }
   ],
   "source": [
    "plt.plot(df_rev_month['Revenue by Channel'])"
   ]
  },
  {
   "cell_type": "code",
   "execution_count": 34,
   "metadata": {},
   "outputs": [
    {
     "data": {
      "text/plain": [
       "0     2017-03\n",
       "1     2017-04\n",
       "2     2017-05\n",
       "3     2017-06\n",
       "4     2017-07\n",
       "5     2017-08\n",
       "6     2017-09\n",
       "7     2017-10\n",
       "8     2017-11\n",
       "9     2017-12\n",
       "10    2018-01\n",
       "11    2018-02\n",
       "12    2018-03\n",
       "Name: Date Month, dtype: period[M]"
      ]
     },
     "execution_count": 34,
     "metadata": {},
     "output_type": "execute_result"
    }
   ],
   "source": [
    "df_rev_month['Date Month']"
   ]
  },
  {
   "cell_type": "code",
   "execution_count": null,
   "metadata": {},
   "outputs": [],
   "source": [
    "plt.plot(df_rev_month['Date Month'], df_rev_month['Revenue by Channel'])"
   ]
  }
 ],
 "metadata": {
  "kernelspec": {
   "display_name": "Python 3",
   "language": "python",
   "name": "python3"
  },
  "language_info": {
   "codemirror_mode": {
    "name": "ipython",
    "version": 3
   },
   "file_extension": ".py",
   "mimetype": "text/x-python",
   "name": "python",
   "nbconvert_exporter": "python",
   "pygments_lexer": "ipython3",
   "version": "3.7.6"
  }
 },
 "nbformat": 4,
 "nbformat_minor": 4
}
